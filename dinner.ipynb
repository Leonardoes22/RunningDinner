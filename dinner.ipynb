{
 "cells": [
  {
   "cell_type": "code",
   "execution_count": null,
   "metadata": {},
   "outputs": [],
   "source": [
    "# Imports\n",
    "\n",
    "import pandas as pd\n",
    "import itertools\n",
    "import random\n",
    "import numpy as np\n",
    "\n",
    "def random_product(*args, repeat=1):\n",
    "    \"Random selection from itertools.product(*args, **kwds)\"\n",
    "    pools = [tuple(pool) for pool in args] * repeat\n",
    "    return tuple(map(np.random.choice, pools))"
   ]
  },
  {
   "cell_type": "code",
   "execution_count": null,
   "metadata": {},
   "outputs": [],
   "source": [
    "# Setup and data loading\n",
    "\n",
    "data = pd.read_csv(\"data.csv\").drop(columns=[\"Date\",\"1st Participant Phone Number\",\"2nd Participant Phone Number\"])\n",
    "\n",
    "appetizers_df = data.loc[data[\"Dish\"].str.contains(\"Appetizer\")]\n",
    "main_df = data.loc[data[\"Dish\"].str.contains(\"Main dish\")]\n",
    "dessert_df = data.loc[data[\"Dish\"].str.contains(\"Dessert\")]\n",
    "\n",
    "appetizers_set = set(appetizers_df.index)\n",
    "main_set = set(main_df.index)\n",
    "dessert_set = set(dessert_df.index)\n",
    "\n",
    "#events = itertools.product(appetizers,main_dish,dessert)\n",
    "used_groups = []"
   ]
  },
  {
   "cell_type": "code",
   "execution_count": null,
   "metadata": {},
   "outputs": [],
   "source": [
    "# Calculate appetizer groups\n",
    "np.random.seed(1)\n",
    "\n",
    "first_event = []\n",
    "used_main = set()\n",
    "used_dessert = set()\n",
    "for pair in appetizers_set:\n",
    "    group = random_product({pair},main_set-used_main,dessert_set-used_dessert)\n",
    "    first_event.append(group)\n",
    "    #used_groups.append(group)\n",
    "    used_groups = used_groups + list(itertools.permutations(group))\n",
    "    used_main.add(group[1])\n",
    "    used_dessert.add(group[2])\n",
    "\n",
    "    \n",
    "appetizer_groups = []\n",
    "for group in first_event:\n",
    "    appetizer_groups.append(appetizers_df.loc[[group[0]]].append(main_df.loc[[group[1]]]).append(dessert_df.loc[[group[2]]]))\n",
    "    \n",
    "\n",
    "for g in appetizer_groups:\n",
    "    display(g)"
   ]
  },
  {
   "cell_type": "code",
   "execution_count": null,
   "metadata": {},
   "outputs": [],
   "source": [
    "# Calculate main_dish groups\n",
    "np.random.seed(1)\n",
    "\n",
    "second_event = []\n",
    "used_appetizers = set()\n",
    "used_dessert = set()\n",
    "for pair in main_set:\n",
    "    done = False\n",
    "    while not done:\n",
    "        group = random_product(appetizers_set-used_appetizers,{pair},dessert_set-used_dessert)\n",
    "        if group not in used_groups:\n",
    "            done = True\n",
    "    second_event.append(group)\n",
    "    #used_groups.append(group)\n",
    "    used_groups = used_groups + list(itertools.permutations(group))\n",
    "    used_appetizers.add(group[0])\n",
    "    used_dessert.add(group[2])\n",
    "\n",
    "\n",
    "main_groups = []\n",
    "for group in second_event:\n",
    "    main_groups.append(appetizers_df.loc[[group[0]]].append(main_df.loc[[group[1]]]).append(dessert_df.loc[[group[2]]]))\n",
    "    \n",
    "for g in main_groups:\n",
    "    display(g)"
   ]
  },
  {
   "cell_type": "code",
   "execution_count": null,
   "metadata": {},
   "outputs": [],
   "source": [
    "# Calculate dessert groups\n",
    "np.random.seed(2)\n",
    "\n",
    "third_event = []\n",
    "used_appetizers = set()\n",
    "used_main = set()\n",
    "for pair in dessert_set:\n",
    "    done = False\n",
    "    while not done:\n",
    "        group = random_product(appetizers_set-used_appetizers,main_set-used_main,{pair})\n",
    "        if group not in used_groups:\n",
    "            done = True\n",
    "    third_event.append(group)\n",
    "    #used_groups.append(group)\n",
    "    used_groups = used_groups + list(itertools.permutations(group))\n",
    "    used_appetizers.add(group[0])\n",
    "    used_main.add(group[1])\n",
    "\n",
    "dessert_groups = []\n",
    "for group in third_event:\n",
    "    dessert_groups.append(appetizers_df.loc[[group[0]]].append(main_df.loc[[group[1]]]).append(dessert_df.loc[[group[2]]]))\n",
    "    \n",
    "for g in dessert_groups:\n",
    "    display(g)"
   ]
  },
  {
   "cell_type": "code",
   "execution_count": null,
   "metadata": {},
   "outputs": [],
   "source": [
    "# Calculate people's route\n",
    "\n",
    "address_map = {}\n",
    "for person in data[\" P1 Name\"].append(data[\"P2 Name\"]):\n",
    "    for group in appetizer_groups:\n",
    "        if group[\" P1 Name\"].append(group[\"P2 Name\"]).str.contains(person).sum():\n",
    "            appetizer_place = group[\"Coloc\"].iloc[0]\n",
    "\n",
    "    for group in main_groups:\n",
    "        if group[\" P1 Name\"].append(group[\"P2 Name\"]).str.contains(person).sum():\n",
    "            main_place = group[\"Coloc\"].iloc[1]\n",
    "\n",
    "    for group in main_groups:\n",
    "        if group[\" P1 Name\"].append(group[\"P2 Name\"]).str.contains(person).sum():\n",
    "            dessert_place = group[\"Coloc\"].iloc[2]\n",
    "    \n",
    "    address_map[person] = (appetizer_place, main_place, dessert_place)\n",
    "\n",
    "for p in address_map:\n",
    "    print(p,address_map[p])\n"
   ]
  }
 ],
 "metadata": {
  "interpreter": {
   "hash": "4edc6bdd590a5a6b92c48979e9e47f5638d187f6c4ff6a23aa9775e5ee8e38f8"
  },
  "kernelspec": {
   "display_name": "Python 3.9.9 64-bit (windows store)",
   "language": "python",
   "name": "python3"
  },
  "language_info": {
   "codemirror_mode": {
    "name": "ipython",
    "version": 3
   },
   "file_extension": ".py",
   "mimetype": "text/x-python",
   "name": "python",
   "nbconvert_exporter": "python",
   "pygments_lexer": "ipython3",
   "version": "3.9.9"
  },
  "orig_nbformat": 4
 },
 "nbformat": 4,
 "nbformat_minor": 2
}
